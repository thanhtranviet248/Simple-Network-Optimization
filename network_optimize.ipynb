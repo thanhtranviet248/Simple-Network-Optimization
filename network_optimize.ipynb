{
  "cells": [
    {
      "cell_type": "markdown",
      "metadata": {
        "id": "49ubAdz-mlSl"
      },
      "source": [
        "# Install and call library"
      ]
    },
    {
      "cell_type": "code",
      "execution_count": null,
      "metadata": {
        "colab": {
          "base_uri": "https://localhost:8080/"
        },
        "id": "Ri4llyltmRVC",
        "outputId": "64aa664d-b08e-4641-b005-fde704b8393b"
      },
      "outputs": [
        {
          "output_type": "stream",
          "name": "stdout",
          "text": [
            "Collecting gurobipy\n",
            "  Downloading gurobipy-12.0.0-cp310-cp310-manylinux2014_x86_64.manylinux_2_17_x86_64.whl.metadata (15 kB)\n",
            "Downloading gurobipy-12.0.0-cp310-cp310-manylinux2014_x86_64.manylinux_2_17_x86_64.whl (14.4 MB)\n",
            "\u001b[2K   \u001b[90m━━━━━━━━━━━━━━━━━━━━━━━━━━━━━━━━━━━━━━━━\u001b[0m \u001b[32m14.4/14.4 MB\u001b[0m \u001b[31m18.8 MB/s\u001b[0m eta \u001b[36m0:00:00\u001b[0m\n",
            "\u001b[?25hInstalling collected packages: gurobipy\n",
            "Successfully installed gurobipy-12.0.0\n"
          ]
        }
      ],
      "source": [
        "# Install gurobipy library\n",
        "!pip install gurobipy"
      ]
    },
    {
      "cell_type": "code",
      "execution_count": null,
      "metadata": {
        "id": "XFscwzo_mcFg"
      },
      "outputs": [],
      "source": [
        "# Call gurobipy library\n",
        "import gurobipy as gp\n",
        "from gurobipy import *\n",
        "\n",
        "# Call pandas library\n",
        "import pandas as pd"
      ]
    },
    {
      "cell_type": "markdown",
      "metadata": {
        "id": "5PBw7vu2moZM"
      },
      "source": [
        "# Setup sets and parameters"
      ]
    },
    {
      "cell_type": "code",
      "execution_count": null,
      "metadata": {
        "id": "RzL_6LYamfIb"
      },
      "outputs": [],
      "source": [
        "# Sets\n",
        "I = 5 # Set of source (San Diego, ..., Portland)\n",
        "J = 3 # Set of destination (Seattle, ..., Kansas City)\n",
        "\n",
        "# Parameters\n",
        "transport_cost = [\n",
        "  [5,7,8],\n",
        "  [10,8,6],\n",
        "  [9,4,3],\n",
        "  [12,6,2],\n",
        "  [4,10,11]\n",
        "]\n",
        "\n",
        "open_cost = [0,0,350000,200000,480000]\n",
        "\n",
        "demand = [3000,8000,9000]\n",
        "\n",
        "supply = [2500,2500,10000,10000,10000]"
      ]
    },
    {
      "cell_type": "markdown",
      "metadata": {
        "id": "srrLPIO5muaR"
      },
      "source": [
        "# Setup model"
      ]
    },
    {
      "cell_type": "code",
      "execution_count": null,
      "metadata": {
        "colab": {
          "base_uri": "https://localhost:8080/"
        },
        "collapsed": true,
        "id": "e8UZIZQlmwJE",
        "outputId": "4c6237b5-981a-47f2-a738-fe776b90265b"
      },
      "outputs": [
        {
          "output_type": "execute_result",
          "data": {
            "text/plain": [
              "{0: <gurobi.Constr *Awaiting Model Update*>,\n",
              " 1: <gurobi.Constr *Awaiting Model Update*>,\n",
              " 2: <gurobi.Constr *Awaiting Model Update*>}"
            ]
          },
          "metadata": {},
          "execution_count": 28
        }
      ],
      "source": [
        "# Create model\n",
        "model = gp.Model('Transport')\n",
        "\n",
        "# Create variables x = model.addVars(*indices, lb=0.0, ub=None, obj=0.0, vtype=GRB.CONTINUOUS, name=\"\")\n",
        "x = model.addVars(I, J, lb=0, vtype=GRB.CONTINUOUS, name = 'quantity shipped from i to j')\n",
        "y = model.addVars(I, vtype = GRB.BINARY, name = 'open or not')\n",
        "\n",
        "# Set objective function model.setObjective(expression, sense)\n",
        "objective = gp.quicksum(transport_cost[i][j]*x[i,j] for i in range(I) for j in range(J)) + gp.quicksum(open_cost[i]*y[i] for i in range(I))\n",
        "model.setObjective(objective,GRB.MINIMIZE)\n",
        "\n",
        "# Constraints\n",
        "model.addConstrs((gp.quicksum(x[i,j] for j in range(J)) <= y[i]*supply[i] for i in range(I)), name = 'supply constraint')\n",
        "model.addConstrs((gp.quicksum(x[i,j] for i in range(I)) >= demand[j] for j in range(J)), name = 'demand constraint')\n"
      ]
    },
    {
      "cell_type": "markdown",
      "source": [
        "# Solve model"
      ],
      "metadata": {
        "id": "2iJn-1uwBnBy"
      }
    },
    {
      "cell_type": "code",
      "execution_count": null,
      "metadata": {
        "colab": {
          "base_uri": "https://localhost:8080/"
        },
        "id": "P8Fnh704my3u",
        "outputId": "190ad59b-d6e5-4a8b-b006-129fd7373c75"
      },
      "outputs": [
        {
          "output_type": "stream",
          "name": "stdout",
          "text": [
            "Gurobi Optimizer version 12.0.0 build v12.0.0rc1 (linux64 - \"Ubuntu 22.04.3 LTS\")\n",
            "\n",
            "CPU model: Intel(R) Xeon(R) CPU @ 2.20GHz, instruction set [SSE2|AVX|AVX2]\n",
            "Thread count: 1 physical cores, 2 logical processors, using up to 2 threads\n",
            "\n",
            "Optimize a model with 8 rows, 20 columns and 35 nonzeros\n",
            "Model fingerprint: 0xe3713c43\n",
            "Variable types: 15 continuous, 5 integer (5 binary)\n",
            "Coefficient statistics:\n",
            "  Matrix range     [1e+00, 1e+04]\n",
            "  Objective range  [2e+00, 5e+05]\n",
            "  Bounds range     [1e+00, 1e+00]\n",
            "  RHS range        [3e+03, 9e+03]\n",
            "Presolve removed 0 rows and 2 columns\n",
            "Presolve time: 0.00s\n",
            "Presolved: 8 rows, 18 columns, 33 nonzeros\n",
            "Variable types: 15 continuous, 3 integer (3 binary)\n",
            "Found heuristic solution: objective 1092000.0000\n",
            "\n",
            "Root relaxation: objective 4.525000e+05, 12 iterations, 0.00 seconds (0.00 work units)\n",
            "\n",
            "    Nodes    |    Current Node    |     Objective Bounds      |     Work\n",
            " Expl Unexpl |  Obj  Depth IntInf | Incumbent    BestBd   Gap | It/Node Time\n",
            "\n",
            "     0     0 452500.000    0    1 1092000.00 452500.000  58.6%     -    0s\n",
            "H    0     0                    627500.00000 452500.000  27.9%     -    0s\n",
            "H    0     0                    619000.00000 452500.000  26.9%     -    0s\n",
            "*    0     0               0    617000.00000 617000.000  0.00%     -    0s\n",
            "\n",
            "Explored 1 nodes (17 simplex iterations) in 0.04 seconds (0.00 work units)\n",
            "Thread count was 2 (of 2 available processors)\n",
            "\n",
            "Solution count 2: 617000 1.092e+06 \n",
            "\n",
            "Optimal solution found (tolerance 1.00e-04)\n",
            "Best objective 6.170000000000e+05, best bound 6.170000000000e+05, gap 0.0000%\n"
          ]
        }
      ],
      "source": [
        "# Optimize model\n",
        "model.optimize()"
      ]
    },
    {
      "cell_type": "code",
      "source": [
        "model.getVars()"
      ],
      "metadata": {
        "colab": {
          "base_uri": "https://localhost:8080/"
        },
        "id": "7tnr2M2NAFv0",
        "outputId": "30effba4-dbf3-40cd-ccaa-537b6edde7b4"
      },
      "execution_count": null,
      "outputs": [
        {
          "output_type": "execute_result",
          "data": {
            "text/plain": [
              "[<gurobi.Var quantity shipped from i to j[0,0] (value 2500.0)>,\n",
              " <gurobi.Var quantity shipped from i to j[0,1] (value 0.0)>,\n",
              " <gurobi.Var quantity shipped from i to j[0,2] (value 0.0)>,\n",
              " <gurobi.Var quantity shipped from i to j[1,0] (value 0.0)>,\n",
              " <gurobi.Var quantity shipped from i to j[1,1] (value 0.0)>,\n",
              " <gurobi.Var quantity shipped from i to j[1,2] (value 0.0)>,\n",
              " <gurobi.Var quantity shipped from i to j[2,0] (value 500.0)>,\n",
              " <gurobi.Var quantity shipped from i to j[2,1] (value 8000.0)>,\n",
              " <gurobi.Var quantity shipped from i to j[2,2] (value 0.0)>,\n",
              " <gurobi.Var quantity shipped from i to j[3,0] (value 0.0)>,\n",
              " <gurobi.Var quantity shipped from i to j[3,1] (value 0.0)>,\n",
              " <gurobi.Var quantity shipped from i to j[3,2] (value 9000.0)>,\n",
              " <gurobi.Var quantity shipped from i to j[4,0] (value 0.0)>,\n",
              " <gurobi.Var quantity shipped from i to j[4,1] (value 0.0)>,\n",
              " <gurobi.Var quantity shipped from i to j[4,2] (value 0.0)>,\n",
              " <gurobi.Var open or not[0] (value 1.0)>,\n",
              " <gurobi.Var open or not[1] (value 1.0)>,\n",
              " <gurobi.Var open or not[2] (value 1.0)>,\n",
              " <gurobi.Var open or not[3] (value 1.0)>,\n",
              " <gurobi.Var open or not[4] (value -0.0)>]"
            ]
          },
          "metadata": {},
          "execution_count": 30
        }
      ]
    },
    {
      "cell_type": "code",
      "source": [
        "model.ObjVal"
      ],
      "metadata": {
        "colab": {
          "base_uri": "https://localhost:8080/"
        },
        "id": "Uy0YtQOlAHRL",
        "outputId": "aecebae4-ad8e-4720-a986-9b8c94aa4819"
      },
      "execution_count": null,
      "outputs": [
        {
          "output_type": "execute_result",
          "data": {
            "text/plain": [
              "617000.0"
            ]
          },
          "metadata": {},
          "execution_count": 31
        }
      ]
    }
  ],
  "metadata": {
    "colab": {
      "provenance": [],
      "collapsed_sections": [
        "49ubAdz-mlSl",
        "5PBw7vu2moZM",
        "srrLPIO5muaR",
        "2iJn-1uwBnBy"
      ]
    },
    "kernelspec": {
      "display_name": "Python 3",
      "name": "python3"
    },
    "language_info": {
      "name": "python"
    }
  },
  "nbformat": 4,
  "nbformat_minor": 0
}